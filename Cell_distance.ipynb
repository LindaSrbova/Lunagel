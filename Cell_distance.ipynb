{
 "cells": [
  {
   "cell_type": "code",
   "execution_count": 1,
   "metadata": {},
   "outputs": [],
   "source": [
    "import glob\n",
    "import os\n",
    "import pandas as pd"
   ]
  },
  {
   "cell_type": "markdown",
   "metadata": {},
   "source": [
    "Loading json files wtih cell info"
   ]
  },
  {
   "cell_type": "code",
   "execution_count": 3,
   "metadata": {},
   "outputs": [],
   "source": [
    "paths = glob.glob(os.path.join(\"E:/Turku_collab/lunagel_50s/remodelling\", \"**\", \"track.json\"), recursive=True)"
   ]
  },
  {
   "cell_type": "markdown",
   "metadata": {},
   "source": [
    "Extracting cell info file with sample info & cell location and size"
   ]
  },
  {
   "cell_type": "code",
   "execution_count": 4,
   "metadata": {},
   "outputs": [],
   "source": [
    "# cells move 0.6µm/min --> in 6 hours = 216µm\n",
    "# hamamatsu_zoom pixel size = 0.325µm\n",
    "# 664,6 radius\n",
    "\n",
    "df_list = []\n",
    "for i in paths:\n",
    "    data = pd.read_json(i)\n",
    "    \n",
    "    keys_list = [key for key in data.keys() if 'cell' in key]\n",
    "    idents = os.path.normpath(i).split(os.sep)\n",
    "    \n",
    "    for key in keys_list:\n",
    "        id = key.split('_')[1]\n",
    "        new = {\n",
    "        'incubation_set': idents[4],\n",
    "        \"incubation\": idents[5],\n",
    "        \"experiment\": idents[6].split('_')[0],       \n",
    "        \"day\": idents[-2][0:6],\n",
    "        \"sample\": idents[-3].split('_')[-1],\n",
    "        \"holder\": idents[-2][9:10],\n",
    "        \"location\": idents[-2][11:12],\n",
    "        \"sample_type\": idents[-2][15:17],\n",
    "        \"cell_id\": id,\n",
    "        \"x\":data[key]['x'][1],\n",
    "        \"y\":data[key]['y'][1],\n",
    "        \"size\":data[key]['radius'][5],\n",
    "        }\n",
    "        \n",
    "        df_list.append(new)\n",
    "        \n",
    "final = pd.DataFrame(df_list)\n",
    "final.to_csv(os.path.join(\"E:/Turku_collab/lunagel_50s/remodelling\", \"cell_info.csv\"))\n"
   ]
  }
 ],
 "metadata": {
  "kernelspec": {
   "display_name": "base",
   "language": "python",
   "name": "python3"
  },
  "language_info": {
   "codemirror_mode": {
    "name": "ipython",
    "version": 3
   },
   "file_extension": ".py",
   "mimetype": "text/x-python",
   "name": "python",
   "nbconvert_exporter": "python",
   "pygments_lexer": "ipython3",
   "version": "3.12.7"
  }
 },
 "nbformat": 4,
 "nbformat_minor": 2
}
