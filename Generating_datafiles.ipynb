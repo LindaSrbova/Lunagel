{
 "cells": [
  {
   "cell_type": "code",
   "execution_count": null,
   "metadata": {},
   "outputs": [],
   "source": [
    "import pandas as pd\n",
    "import glob as glob\n",
    "import os\n",
    "import numpy as np"
   ]
  },
  {
   "cell_type": "markdown",
   "metadata": {},
   "source": [
    "Loading measurement datafiles"
   ]
  },
  {
   "cell_type": "code",
   "execution_count": null,
   "metadata": {},
   "outputs": [],
   "source": [
    "#micromanipulator measurement\n",
    "paths = glob.glob(os.path.join(\"E:/Turku_collab/lunagel_50s/remodelling\", \"**\",\"summary_ID_level.csv\"),recursive=True)\n",
    "print(*paths, sep='\\n')\n",
    "\n",
    "#cell info\n",
    "cell_info = (pd.read_csv(\"E:/Turku_collab/lunagel_50s/remodelling/cell_info.csv\")).drop(columns=['Unnamed: 0'])\n",
    "cell_info['day'] = cell_info['day'].astype(str)\n",
    "cell_info['experiment'] = cell_info['experiment'].astype(str)"
   ]
  },
  {
   "cell_type": "markdown",
   "metadata": {},
   "source": [
    "Parsing data"
   ]
  },
  {
   "cell_type": "code",
   "execution_count": null,
   "metadata": {},
   "outputs": [],
   "source": [
    "df=[]\n",
    "\n",
    "fov_um = 2048*0.325\n",
    "\n",
    "def parser(i):\n",
    "    data = pd.read_csv(i)\n",
    "    data['irradiation'] = (i.split('/')[2].split('_')[1])       \n",
    "    data['incubation_set'] = i.split('/')[3].split('\\\\')[1]\n",
    "    data['incubation'] = i.split('/')[3].split('\\\\')[2]\n",
    "    data['experiment'] = i.split('/')[3].split('\\\\')[3].split('_')[0]\n",
    "    data['cell/control'] = i.split('/')[3].split('\\\\')[4].split('_')[-1]\n",
    "    data['day'] = data['day'].astype(str)\n",
    "    max_location = data['location'].unique().max()\n",
    "    \n",
    "    data['location_inverse'] = max_location + 1 - data['location']\n",
    "\n",
    "    for j, location in enumerate(data['location'].unique()):\n",
    "        # Use .loc to properly assign values to the dataframe\n",
    "        data.loc[data['location'] == location, 'gradient'] = data['y'] + location*fov_um\n",
    "        data.loc[data['location'] == location, 'gradient_inverse'] = data['y'] + (max_location-location)*fov_um\n",
    "    return data\n",
    "  \n",
    "df = pd.concat([parser(i) for i in paths], ignore_index=True)"
   ]
  },
  {
   "cell_type": "markdown",
   "metadata": {},
   "source": [
    "Direction of the gradient"
   ]
  },
  {
   "cell_type": "code",
   "execution_count": null,
   "metadata": {},
   "outputs": [],
   "source": [
    "df['gradient_direction'] = np.where(\n",
    "    ((df['sample'] == \"MDAMB231\") & (df['day'] == \"241107\")) | \n",
    "    (df['day'].isin([\"241121\",\"241122\", \"241125\",\"241126\",\"240830\"])),\n",
    "    \"stiff_to_soft\",\n",
    "    \"soft_to_stiff\")"
   ]
  },
  {
   "cell_type": "markdown",
   "metadata": {},
   "source": [
    "Parameters for selection of close-by beads\n"
   ]
  },
  {
   "cell_type": "code",
   "execution_count": null,
   "metadata": {},
   "outputs": [],
   "source": [
    "time = 180 #min\n",
    "speed = 0.5 # or 0.6µm/min\n",
    "pixel_size = 0.325 #µm\n",
    "distance = time*speed/pixel_size\n",
    "print(distance)"
   ]
  },
  {
   "cell_type": "markdown",
   "metadata": {},
   "source": [
    "Assigning to the relevant measurements if cells closeby of faraway"
   ]
  },
  {
   "cell_type": "code",
   "execution_count": null,
   "metadata": {},
   "outputs": [],
   "source": [
    "grouped_all = df.groupby(['day', 'experiment', 'holder', 'location'])\n",
    "grouped_cell = cell_info.groupby(['day', 'experiment', 'holder', 'location'])\n",
    "\n",
    "# Add a new column to the original df for classification\n",
    "df['cell_rel_distance'] = 'unclassified'  # Default value for debugging\n",
    "\n",
    "# Initialize lists to store faraway and closeby beads\n",
    "closeby = []\n",
    "faraway = []\n",
    "\n",
    "# Initialize counters for debugging\n",
    "closeby_count = 0\n",
    "faraway_count = 0\n",
    "\n",
    "# Track unmatched keys\n",
    "unmatched_keys = set(grouped_all.groups.keys())\n",
    "\n",
    "# Iterate through the groups\n",
    "for key_all, j_all in grouped_all:\n",
    "    matched = False  # Flag to check if a matching key was found\n",
    "    for key_cell, j_cell in grouped_cell:\n",
    "        if key_all == key_cell:\n",
    "            matched = True  # Mark as matched\n",
    "            unmatched_keys.discard(key_all)  # Remove from unmatched keys\n",
    "            # print(f\"Processing group: {key_all}\")\n",
    "            for index_all, row_all in j_all.iterrows():\n",
    "                bead_classified = False\n",
    "                for index_cell, row_cell in j_cell.iterrows():\n",
    "                    # Check if the bead is close to any cell\n",
    "                    if ((row_cell['x'] - distance) < row_all['x'] < (row_cell['x'] + distance)) and \\\n",
    "                       ((row_cell['y'] - distance) < row_all['y'] < (row_cell['y'] + distance)):\n",
    "                        # Assign 'close' and append to closeby list\n",
    "                        df.at[index_all, 'cell_rel_distance'] = 'close'\n",
    "                        closeby.append(row_all)\n",
    "                        bead_classified = True\n",
    "                        closeby_count += 1\n",
    "                        break\n",
    "                if not bead_classified:\n",
    "                    # Assign 'far' and append to faraway list\n",
    "                    df.at[index_all, 'cell_rel_distance'] = 'far'\n",
    "                    faraway.append(row_all)\n",
    "                    faraway_count += 1\n",
    "    if not matched:\n",
    "        print(f\"No matching key_cell for key_all: {key_all}\")\n",
    "\n",
    "# Convert closeby and faraway lists into DataFrames\n",
    "final_closeby = pd.DataFrame(closeby)\n",
    "final_faraway = pd.DataFrame(faraway)\n",
    "\n",
    "print(df['cell_rel_distance'].value_counts())"
   ]
  },
  {
   "cell_type": "markdown",
   "metadata": {},
   "source": [
    "Saving datafiles"
   ]
  },
  {
   "cell_type": "code",
   "execution_count": null,
   "metadata": {},
   "outputs": [],
   "source": [
    "saving_path = 'C:/Users/srboval1/OneDrive - Aalto University/Collab/Ivaska_collab/data'\n",
    "\n",
    "df.to_csv(saving_path+'/all.csv')  #all data\n",
    "final_closeby.to_csv(saving_path+'/closeby_beads.csv') #only closeby beads\n",
    "final_faraway.to_csv(saving_path+'/faraway_beads.csv') #only faraway beads"
   ]
  }
 ],
 "metadata": {
  "kernelspec": {
   "display_name": "base",
   "language": "python",
   "name": "python3"
  },
  "language_info": {
   "codemirror_mode": {
    "name": "ipython",
    "version": 3
   },
   "file_extension": ".py",
   "mimetype": "text/x-python",
   "name": "python",
   "nbconvert_exporter": "python",
   "pygments_lexer": "ipython3",
   "version": "3.12.7"
  }
 },
 "nbformat": 4,
 "nbformat_minor": 2
}
