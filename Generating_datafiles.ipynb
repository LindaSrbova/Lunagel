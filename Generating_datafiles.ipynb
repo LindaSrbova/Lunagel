{
 "cells": [
  {
   "cell_type": "code",
   "execution_count": 1,
   "metadata": {},
   "outputs": [],
   "source": [
    "import pandas as pd\n",
    "import glob as glob\n",
    "import os\n",
    "import numpy as np"
   ]
  },
  {
   "cell_type": "markdown",
   "metadata": {},
   "source": [
    "Loading measurement datafiles"
   ]
  },
  {
   "cell_type": "code",
   "execution_count": 2,
   "metadata": {},
   "outputs": [],
   "source": [
    "paths_remodelling = glob.glob(os.path.join(\"D:/Turku/microrheometry/2024/lunagel_50s_UV/remodelling\", \"**\",\"summary_ID_level.csv\"),recursive=True)\n",
    "paths_other = glob.glob(os.path.join(\"D:/Turku/microrheometry/2024/lunagel_mix_UV\", \"**\",\"summary_ID_level.csv\"),recursive=True)\n",
    "# print(paths_remodelling, sep='\\n')\n",
    "# print(paths_other, sep='\\n')\n",
    "\n",
    "\n",
    "#cell info\n",
    "cell_info = (pd.read_csv(\"D:/Turku/microrheometry/2024/lunagel_50s_UV/remodelling/cell_info.csv\")).drop(columns=['Unnamed: 0'])\n",
    "cell_info['day'] = cell_info['day'].astype(str)\n",
    "cell_info['experiment'] = cell_info['experiment'].astype(str)"
   ]
  },
  {
   "cell_type": "markdown",
   "metadata": {},
   "source": [
    "Parsing data"
   ]
  },
  {
   "cell_type": "code",
   "execution_count": 9,
   "metadata": {},
   "outputs": [
    {
     "name": "stdout",
     "output_type": "stream",
     "text": [
      "lunagel_50s_UV/remodelling\\0_168\\0\\0_240823\\240823_50um_3layer_50s_control\\holder_2\n",
      "lunagel_50s_UV/remodelling\\0_168\\0\\0_240823\\240823_50um_3layer_50s_MDAMB231\n",
      "lunagel_50s_UV/remodelling\\0_168\\168\\0_240830\\240830_50um_3laye_50s_MDAMB231\n",
      "lunagel_50s_UV/remodelling\\24_120\\120\\0_241111\\241111_10um_3layer_50s_control\n",
      "lunagel_50s_UV/remodelling\\24_120\\120\\0_241111\\241111_10um_3layer_50s_MDAMB231\n",
      "lunagel_50s_UV/remodelling\\24_120\\120\\1_241125\\241125_10um_3layers_50s_control\n",
      "lunagel_50s_UV/remodelling\\24_120\\120\\1_241125\\241125_10um_3layers_50s_MDAMB231\n",
      "lunagel_50s_UV/remodelling\\24_120\\24\\0_241107\\241107_10um_3layer_50s_control\n",
      "lunagel_50s_UV/remodelling\\24_120\\24\\0_241107\\241107_10um_3layer_50s_MDAMB231\n",
      "lunagel_50s_UV/remodelling\\24_120\\24\\1_241121\\241121_10um_3layer_50s_control\n",
      "lunagel_50s_UV/remodelling\\24_120\\24\\1_241121\\241121_10um_3layer_50s_MDAMB231\n",
      "lunagel_50s_UV/remodelling\\48_144\\144\\0_241112\\241112_10um_3layer_50s_control\n",
      "lunagel_50s_UV/remodelling\\48_144\\144\\0_241112\\241112_10um_3layer_50s_MDAMB231\n",
      "lunagel_50s_UV/remodelling\\48_144\\144\\1_241126\\241126_10um_3layers_50s_MDAMB231\n",
      "lunagel_50s_UV/remodelling\\48_144\\144\\1_241126\\241126_10um_3layer_50s_control\n",
      "lunagel_50s_UV/remodelling\\48_144\\48\\0_241108\\241108_10um_3layer_50s_control\n",
      "lunagel_50s_UV/remodelling\\48_144\\48\\0_241108\\241108_10um_3layer_50s_MDAMB231\n",
      "lunagel_50s_UV/remodelling\\48_144\\48\\1_241122\\241122_10um_3layer_50s_control\n",
      "lunagel_50s_UV/remodelling\\48_144\\48\\1_241122\\241122_10um_3layer_50s_MDAMB231\n",
      "lunagel_mix_UV\\240823\\240823_50s_control_30um\n",
      "lunagel_mix_UV\\240905\\240905_50s_control_10um\n",
      "lunagel_mix_UV\\240905\\240905_50s_MDAMB231_10um\n",
      "lunagel_mix_UV\\240912\\240912_50s_MDAMB231_mix\n",
      "lunagel_mix_UV\\240912\\240912_70s_MDAMB231_mix\n",
      "lunagel_mix_UV\\240913\\240913_50s_control_10um\\holder_1\n",
      "lunagel_mix_UV\\240913\\240913_50s_control_10um\\holder_2\n"
     ]
    }
   ],
   "source": [
    "df_remodelling = []\n",
    "df_other = []\n",
    "fov_um = 2048*0.325\n",
    "\n",
    "def parser_remodelling(i):\n",
    "    data = pd.read_csv(i)\n",
    "    p= f\"lunagel_50s_UV/{(i.split('/')[5])}\"\n",
    "    path_parts = p.split(os.sep)\n",
    "    path_parts = path_parts[:-2]\n",
    "    print(os.path.join(*path_parts))\n",
    "    data['path']= os.path.join(*path_parts)\n",
    "    data['irradiation'] = (i.split('/')[4].split('_')[1])       \n",
    "    data['incubation_set'] = i.split('/')[5].split('\\\\')[1]\n",
    "    data['incubation'] = i.split('/')[5].split('\\\\')[2]\n",
    "    data['experiment'] = i.split('/')[5].split('\\\\')[3].split('_')[0]\n",
    "    data['cell/control'] = i.split('/')[5].split('\\\\')[4].split('_')[-1]\n",
    "    data['day'] = data['day'].astype(str)\n",
    "    max_location = data['location'].unique().max()\n",
    "    data['bead_radius'] = (i.split('/')[5].split('\\\\')[4].split('_')[1])\n",
    "    data['location_inverse'] = max_location + 1 - data['location']\n",
    "\n",
    "    for j, location in enumerate(data['location'].unique()):\n",
    "        data.loc[data['location'] == location, 'gradient'] = data['y'] + location*fov_um\n",
    "        data.loc[data['location'] == location, 'gradient_inverse'] = data['y'] + (max_location-location)*fov_um\n",
    "    return data\n",
    "\n",
    "def parser_other(i):\n",
    "    data = pd.read_csv(i)\n",
    "    p = i.split('/')[4]\n",
    "    path_parts = p.split(os.sep)\n",
    "    path_parts = path_parts[:-2]\n",
    "    data['path']= os.path.join(*path_parts)\n",
    "    print(os.path.join(*path_parts))\n",
    "    data['path']=i.split('/')[4]\n",
    "    data['irradiation'] = (i.split('/')[4].split('\\\\')[2].split('_')[1])     \n",
    "    data['incubation_set'] = '0'\n",
    "    data['incubation'] = '2'\n",
    "    data['experiment'] = '0'\n",
    "    data['cell/control'] = (i.split('/')[4].split('\\\\')[2].split('_')[2])\n",
    "    data['day'] = data['day'].astype(str)\n",
    "    max_location = data['location'].unique().max()\n",
    "    data['bead_radius'] = (i.split('/')[4].split('\\\\')[2].split('_')[3])\n",
    "    data['location_inverse'] = max_location + 1 - data['location']\n",
    "\n",
    "    for j, location in enumerate(data['location'].unique()):\n",
    "        data.loc[data['location'] == location, 'gradient'] = data['y'] + location*fov_um\n",
    "        data.loc[data['location'] == location, 'gradient_inverse'] = data['y'] + (max_location-location)*fov_um\n",
    "    return data\n",
    "\n",
    "df_remodelling = pd.concat([parser_remodelling(i) for i in paths_remodelling], ignore_index=True)\n",
    "df_other= pd.concat([parser_other(i) for i in paths_other], ignore_index=True)\n",
    "merged = pd.concat([df_other, df_remodelling], ignore_index=True)\n"
   ]
  },
  {
   "cell_type": "markdown",
   "metadata": {},
   "source": [
    "Direction of the gradient in remodelling (incubation sets) data"
   ]
  },
  {
   "cell_type": "code",
   "execution_count": 10,
   "metadata": {},
   "outputs": [],
   "source": [
    "merged['gradient_direction'] = np.where(\n",
    "    ((merged['cell/control'] == \"MDAMB231\") & (merged['day'] == \"241107\")) | \n",
    "    (merged['day'].isin([\"241121\",\"241122\", \"241125\",\"241126\",\"240830\",\"240905\",\"240913\"])),\n",
    "    \"stiff_to_soft\",\n",
    "    \"soft_to_stiff\")"
   ]
  },
  {
   "cell_type": "markdown",
   "metadata": {},
   "source": [
    "Parameters for selection of close-by beads\n"
   ]
  },
  {
   "cell_type": "code",
   "execution_count": 11,
   "metadata": {},
   "outputs": [
    {
     "name": "stdout",
     "output_type": "stream",
     "text": [
      "276.9230769230769\n"
     ]
    }
   ],
   "source": [
    "time = 180 #min\n",
    "speed = 0.5 # or 0.6µm/min\n",
    "pixel_size = 0.325 #µm\n",
    "distance = time*speed/pixel_size\n",
    "print(distance)"
   ]
  },
  {
   "cell_type": "markdown",
   "metadata": {},
   "source": [
    "Assigning to the relevant measurements if cells closeby of faraway"
   ]
  },
  {
   "cell_type": "code",
   "execution_count": 12,
   "metadata": {},
   "outputs": [
    {
     "name": "stdout",
     "output_type": "stream",
     "text": [
      "No matching key_cell for key_all: ('240823', '0', 1, 1)\n",
      "No matching key_cell for key_all: ('240823', '0', 1, 2)\n",
      "No matching key_cell for key_all: ('240823', '0', 1, 3)\n",
      "No matching key_cell for key_all: ('240823', '0', 1, 4)\n",
      "No matching key_cell for key_all: ('240823', '0', 2, 2)\n",
      "No matching key_cell for key_all: ('240823', '0', 2, 3)\n",
      "No matching key_cell for key_all: ('240823', '0', 2, 4)\n",
      "No matching key_cell for key_all: ('240830', '0', 1, 1)\n",
      "No matching key_cell for key_all: ('240830', '0', 1, 2)\n",
      "No matching key_cell for key_all: ('240830', '0', 1, 3)\n",
      "No matching key_cell for key_all: ('240905', '0', 1, 1)\n",
      "No matching key_cell for key_all: ('240905', '0', 1, 2)\n",
      "No matching key_cell for key_all: ('240905', '0', 1, 3)\n",
      "No matching key_cell for key_all: ('240905', '0', 1, 4)\n",
      "No matching key_cell for key_all: ('240905', '0', 1, 5)\n",
      "No matching key_cell for key_all: ('240912', '0', 1, 1)\n",
      "No matching key_cell for key_all: ('240912', '0', 1, 2)\n",
      "No matching key_cell for key_all: ('240912', '0', 1, 3)\n",
      "No matching key_cell for key_all: ('240912', '0', 1, 4)\n",
      "No matching key_cell for key_all: ('240912', '0', 1, 5)\n",
      "No matching key_cell for key_all: ('240913', '0', 1, 1)\n",
      "No matching key_cell for key_all: ('240913', '0', 1, 2)\n",
      "No matching key_cell for key_all: ('240913', '0', 1, 3)\n",
      "No matching key_cell for key_all: ('240913', '0', 2, 1)\n",
      "No matching key_cell for key_all: ('240913', '0', 2, 2)\n",
      "No matching key_cell for key_all: ('240913', '0', 2, 3)\n",
      "No matching key_cell for key_all: ('241107', '0', 1, 2)\n",
      "No matching key_cell for key_all: ('241107', '0', 1, 7)\n",
      "No matching key_cell for key_all: ('241107', '0', 1, 8)\n",
      "No matching key_cell for key_all: ('241112', '0', 1, 6)\n",
      "No matching key_cell for key_all: ('241121', '1', 1, 10)\n",
      "No matching key_cell for key_all: ('241122', '1', 1, 1)\n",
      "No matching key_cell for key_all: ('241126', '1', 1, 7)\n",
      "No matching key_cell for key_all: ('241126', '1', 1, 8)\n",
      "No matching key_cell for key_all: ('241126', '1', 1, 9)\n",
      "No matching key_cell for key_all: ('241126', '1', 1, 10)\n",
      "cell_rel_distance\n",
      "close           427\n",
      "far             400\n",
      "unclassified    387\n",
      "Name: count, dtype: int64\n"
     ]
    }
   ],
   "source": [
    "grouped_all = merged.groupby(['day', 'experiment', 'holder', 'location'])\n",
    "grouped_cell = cell_info.groupby(['day', 'experiment', 'holder', 'location'])\n",
    "\n",
    "df_remodelling['cell_rel_distance'] = 'unclassified' \n",
    "\n",
    "closeby = []\n",
    "faraway = []\n",
    "\n",
    "closeby_count = 0\n",
    "faraway_count = 0\n",
    "\n",
    "unmatched_keys = set(grouped_all.groups.keys())\n",
    "\n",
    "for key_all, j_all in grouped_all:\n",
    "    matched = False \n",
    "    for key_cell, j_cell in grouped_cell:\n",
    "        if key_all == key_cell:\n",
    "            matched = True \n",
    "            unmatched_keys.discard(key_all) \n",
    "            # print(f\"Processing group: {key_all}\")\n",
    "            for index_all, row_all in j_all.iterrows():\n",
    "                bead_classified = False\n",
    "                for index_cell, row_cell in j_cell.iterrows():\n",
    "                    if ((row_cell['x'] - distance) < row_all['x'] < (row_cell['x'] + distance)) and \\\n",
    "                       ((row_cell['y'] - distance) < row_all['y'] < (row_cell['y'] + distance)):\n",
    "                        df_remodelling.at[index_all, 'cell_rel_distance'] = 'close'\n",
    "                        closeby.append(row_all)\n",
    "                        bead_classified = True\n",
    "                        closeby_count += 1\n",
    "                        break\n",
    "                if not bead_classified:\n",
    "                    df_remodelling.at[index_all, 'cell_rel_distance'] = 'far'\n",
    "                    faraway.append(row_all)\n",
    "                    faraway_count += 1\n",
    "    if not matched:\n",
    "        print(f\"No matching key_cell for key_all: {key_all}\")\n",
    "\n",
    "final_closeby = pd.DataFrame(closeby)\n",
    "final_faraway = pd.DataFrame(faraway)\n",
    "\n",
    "print(df_remodelling['cell_rel_distance'].value_counts())"
   ]
  },
  {
   "cell_type": "markdown",
   "metadata": {},
   "source": [
    "Combining non- with remodelling data, setting experiment_id"
   ]
  },
  {
   "cell_type": "code",
   "execution_count": 13,
   "metadata": {},
   "outputs": [],
   "source": [
    "merged['experiment_id'] = merged.groupby(['day', 'incubation_set','cell/control','bead_radius','incubation','experiment','irradiation','holder']).ngroup()"
   ]
  },
  {
   "cell_type": "code",
   "execution_count": 14,
   "metadata": {},
   "outputs": [
    {
     "data": {
      "text/plain": [
       "[0,\n",
       " 1,\n",
       " 2,\n",
       " 3,\n",
       " 4,\n",
       " 5,\n",
       " 6,\n",
       " 7,\n",
       " 8,\n",
       " 9,\n",
       " 10,\n",
       " 11,\n",
       " 12,\n",
       " 13,\n",
       " 14,\n",
       " 15,\n",
       " 16,\n",
       " 17,\n",
       " 18,\n",
       " 19,\n",
       " 20,\n",
       " 21,\n",
       " 22,\n",
       " 23,\n",
       " 24,\n",
       " 25]"
      ]
     },
     "execution_count": 14,
     "metadata": {},
     "output_type": "execute_result"
    }
   ],
   "source": [
    "sorted(merged['experiment_id'].unique())"
   ]
  },
  {
   "cell_type": "markdown",
   "metadata": {},
   "source": [
    "Saving datafiles"
   ]
  },
  {
   "cell_type": "code",
   "execution_count": 15,
   "metadata": {},
   "outputs": [],
   "source": [
    "saving_path = 'C:/Users/srboval1/OneDrive - Aalto University/Collab/Ivaska_collab/data'\n",
    "\n",
    "df_remodelling.to_csv(saving_path+'/remodelling_data.csv') \n",
    "df_other.to_csv(saving_path+'/non_remodelling_data.csv') \n",
    "merged.to_csv(saving_path+'/all_data.csv') \n",
    "final_closeby.to_csv(saving_path+'/closeby_beads.csv')\n",
    "final_faraway.to_csv(saving_path+'/faraway_beads.csv') \n"
   ]
  },
  {
   "cell_type": "code",
   "execution_count": null,
   "metadata": {},
   "outputs": [],
   "source": []
  }
 ],
 "metadata": {
  "kernelspec": {
   "display_name": "myenv",
   "language": "python",
   "name": "python3"
  },
  "language_info": {
   "codemirror_mode": {
    "name": "ipython",
    "version": 3
   },
   "file_extension": ".py",
   "mimetype": "text/x-python",
   "name": "python",
   "nbconvert_exporter": "python",
   "pygments_lexer": "ipython3",
   "version": "3.8.20"
  }
 },
 "nbformat": 4,
 "nbformat_minor": 2
}
